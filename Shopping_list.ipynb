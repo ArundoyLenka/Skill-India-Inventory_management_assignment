{
 "cells": [
  {
   "cell_type": "code",
   "execution_count": null,
   "id": "9795fe84",
   "metadata": {},
   "outputs": [],
   "source": [
    "Shopping_list = {1: {\"item_name\":\"apple\", \"item_Qty\":2, \"item_price\":12},\n",
    "                 2: {\"item_name\":\"guava\", \"item_Qty\":1, \"item_price\":8},\n",
    "                 3: {\"item_name\":\"orange\", \"item_Qty\":3, \"item_price\":15},\n",
    "                 4: {\"item_name\":\"shirt\", \"item_Qty\":2, \"item_price\":1000},\n",
    "                 5: {\"item_name\":\"joggers\", \"item_Qty\":2, \"item_price\":1200},\n",
    "                 6: {\"item_name\":\"smartphone\", \"item_Qty\":1 , \"item_price\":25000},\n",
    "                 7: {\"item_name\":\"laptop\", \"item_Qty\":1, \"item_price\":56000},\n",
    "                 8: {\"item_name\":\"tv\", \"item_Qty\":1, \"item_price\":45000},\n",
    "                 9: {\"item_name\":\"airpods\", \"item_Qty\":1, \"item_price\":11000},\n",
    "                10: {\"item_name\":\"sandal\", \"item_Qty\":2, \"item_price\":800},\n",
    "                11: {\"item_name\":\"watch\", \"item_Qty\":1, \"item_price\":1500},\n",
    "                12: {\"item_name\":\"shoes\", \"item_Qty\":2, \"item_price\":10000},\n",
    "                13: {\"item_name\":\"potato\", \"item_Qty\":2, \"item_price\":56},\n",
    "                14: {\"item_name\":\"onions\", \"item_Qty\":3, \"item_price\":121},\n",
    "                15: {\"item_name\":\"spinach\", \"item_Qty\":1, \"item_price\":15},\n",
    "                16: {\"item_name\":\"soda\", \"item_Qty\":3, \"item_price\":45},\n",
    "                17: {\"item_name\":\"mop\", \"item_Qty\":1, \"item_price\":140},\n",
    "                18: {\"item_name\":\"bucket\", \"item_Qty\":2, \"item_price\":280},\n",
    "                19: {\"item_name\":\"water purifier\", \"item_Qty\":1, \"item_price\":16000},\n",
    "                20: {\"item_name\":\"suit\", \"item_Qty\":1, \"item_price\":2600}}\n",
    "\n",
    "\n",
    "#trying to joke & communicate with the user\n",
    "joke= input(\"Do you want to follow the programmers pre-defined Shopping_list?(yes/no)\")\n",
    "if joke=='yes':\n",
    "    for key, value in Shopping_list.items():\n",
    "        print(key,':',value)\n",
    "else:\n",
    "    print(\"Haha,Gotcha!,It'd be a long & hectic process,I'd request you to follow the programmers already defined Shopping_list \\U0001F605\")"
   ]
  },
  {
   "cell_type": "code",
   "execution_count": null,
   "id": "9a9f8ec6",
   "metadata": {},
   "outputs": [],
   "source": [
    "\n",
    "change = input(\"Would you like to make any changes?(yes/no)\")\n",
    "if change=='yes':\n",
    "    x = input(\"Would you like to add more items or want to remove them?(add/update/remove)\")\n",
    "    if x =='add':\n",
    "        change_1= input(\"Enter item_name: \")\n",
    "        change_2= input(\"Enter item_Qty: \")\n",
    "        if change_2.isnumeric():\n",
    "            pass\n",
    "        else:\n",
    "            raise Exception(\"ERROR!,Please enter a numerical value\")\n",
    "        change_3= input(\"Enter item_price: \")\n",
    "        if change_3.isnumeric():\n",
    "            pass\n",
    "        else:\n",
    "            raise Exception(\"ERROR!,Please enter a numerical value\")\n",
    "        new_item = {\"item_name\":change_1,\"item_Qty\":change_2,\"item_price\":change_3}\n",
    "        key = len(Shopping_list) +1\n",
    "        Shopping_list[key] = new_item\n",
    "        for key,new_item in Shopping_list.items():\n",
    "            print(key,':',new_item)\n",
    "    \n",
    "    elif x == 'update':\n",
    "        serial_no = int(input(\"Please enter serial.no you would like to update: \"))\n",
    "        change_4= input(\"Would you like to update quantity or price?(qty or price): \")\n",
    "        if change_4 == 'qty':\n",
    "            new_qty = int(input(\"Enter your new_qty: \"))\n",
    "            Shopping_list[serial_no][\"item_Qty\"] = new_qty\n",
    "            for key, value in Shopping_list.items():\n",
    "                print(key,':',value)          \n",
    "        elif change_4 == 'price':\n",
    "            new_price = int(input(\"Enter your new_price: \"))\n",
    "            Shopping_list[serial_no][\"item_price\"] = new_price\n",
    "            for key, value in Shopping_list.items():\n",
    "                    print(key,':',value)\n",
    "        else:\n",
    "            print(\"SORRY!,you've mistyped qty or price, please check and try again!\")\n",
    "                \n",
    "    \n",
    "    elif x =='remove':\n",
    "        serial_no = input(\"Please enter the serial.no you would to remove: \")\n",
    "        Shopping_list.pop(int(serial_no),None)\n",
    "        for key, value in Shopping_list.items():\n",
    "            print(key,':',value)\n",
    "    else:\n",
    "        print(\"Error!, You've probably mistyped and should recheck and restart again!\")\n",
    "else:\n",
    "    print(\"Congratulations!, since you wouldn't like to make any changes, go on and explore your shopping list and look at the sales\")"
   ]
  },
  {
   "cell_type": "code",
   "execution_count": null,
   "id": "d7ac9136",
   "metadata": {},
   "outputs": [],
   "source": [
    "#calculating sales\n",
    "updated_shopping_list = Shopping_list\n",
    "qty_sold = sum(d['item_Qty'] for d in updated_shopping_list.values() if d)\n",
    "total_price = sum(d['item_price'] for d in updated_shopping_list.values() if d)\n",
    "total_sales = qty_sold * total_price\n",
    "a_dict = {'Total_sales':total_sales,'Qty-sold':qty_sold,'Total_price':total_price}\n",
    "key = len(updated_shopping_list) +1\n",
    "updated_shopping_list[key] = a_dict\n",
    "for key,a_dict in updated_shopping_list.items():\n",
    "    print(key,':',a_dict)\n",
    "#print(qty_sold)\n",
    "#print(total_price)\n",
    "#print(total_sales)"
   ]
  },
  {
   "cell_type": "code",
   "execution_count": null,
   "id": "4643c335",
   "metadata": {},
   "outputs": [],
   "source": [
    "import json\n",
    "record = Shopping_list\n",
    "js = json.dumps(Shopping_list)\n",
    "js = str(Shopping_list).replace(\", \",\",\\n\")\n",
    "fd = open(\"C:\\\\Users\\\\arund\\\\Dropbox\\\\My PC (LAPTOP-AGTQUG2O)\\\\Desktop\\\\Json_inventory_management_project\\\\record.json\",'w')\n",
    "fd.write(js)\n",
    "fd.close()"
   ]
  },
  {
   "cell_type": "code",
   "execution_count": null,
   "id": "561cdd18",
   "metadata": {},
   "outputs": [],
   "source": [
    "import ast\n",
    "fd = open(\"C:\\\\Users\\\\arund\\\\Dropbox\\\\My PC (LAPTOP-AGTQUG2O)\\\\Desktop\\\\Json_inventory_management_project\\\\record.json\",'r')\n",
    "txt = fd.read()\n",
    "fd.close()\n",
    "record = ast.literal_eval(txt)\n",
    "print(record)"
   ]
  },
  {
   "cell_type": "code",
   "execution_count": null,
   "id": "af577240",
   "metadata": {},
   "outputs": [],
   "source": [
    "import json\n",
    "js = json.dumps(updated_shopping_list)\n",
    "js = str(updated_shopping_list).replace(\", \",\",\\n\")\n",
    "fd = open(\"C:\\\\Users\\\\arund\\\\Dropbox\\\\My PC (LAPTOP-AGTQUG2O)\\\\Desktop\\\\Json_inventory_management_project\\\\sales.json\",'w')\n",
    "fd.write(js)\n",
    "fd.close()\n"
   ]
  },
  {
   "cell_type": "code",
   "execution_count": null,
   "id": "07e80b61",
   "metadata": {
    "scrolled": true
   },
   "outputs": [],
   "source": [
    "import ast\n",
    "fd = open(\"C:\\\\Users\\\\arund\\\\Dropbox\\\\My PC (LAPTOP-AGTQUG2O)\\\\Desktop\\\\Json_inventory_management_project\\\\sales.json\",'r')\n",
    "txt = fd.read()\n",
    "#js-beautify sales.json\n",
    "fd.close()\n",
    "sales = ast.literal_eval(txt)\n",
    "sales"
   ]
  },
  {
   "cell_type": "code",
   "execution_count": null,
   "id": "a71eafd7",
   "metadata": {},
   "outputs": [],
   "source": []
  }
 ],
 "metadata": {
  "kernelspec": {
   "display_name": "Python 3",
   "language": "python",
   "name": "python3"
  },
  "language_info": {
   "codemirror_mode": {
    "name": "ipython",
    "version": 3
   },
   "file_extension": ".py",
   "mimetype": "text/x-python",
   "name": "python",
   "nbconvert_exporter": "python",
   "pygments_lexer": "ipython3",
   "version": "3.8.8"
  }
 },
 "nbformat": 4,
 "nbformat_minor": 5
}
