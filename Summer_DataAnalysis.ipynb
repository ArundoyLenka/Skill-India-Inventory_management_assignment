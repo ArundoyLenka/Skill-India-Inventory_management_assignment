{
 "cells": [
  {
   "cell_type": "markdown",
   "id": "8233d51d",
   "metadata": {},
   "source": [
    "# #SUMMER OLYMPICS DATA ANALYSIS ASSIGNMENT"
   ]
  },
  {
   "cell_type": "code",
   "execution_count": 1,
   "id": "14bfb24d",
   "metadata": {},
   "outputs": [],
   "source": [
    "import pandas as pd          #We have imported PANDAS library since we are going to use it in order to do\n",
    "                             #DATA ANALYSIS on the Summer.csv file\n",
    "import numpy as np           #I have also imported NUMPY in order to convert any given object into an array,\n",
    "                             #if and when required.\n",
    "\n",
    "import matplotlib.pyplot as mpl\n",
    "from tabulate import tabulate     #I have imported tabulate in order display the given data into a tabular format for the\n",
    "                                  #viewer to have an easy understanding of the output."
   ]
  },
  {
   "cell_type": "code",
   "execution_count": 2,
   "id": "b3770b49",
   "metadata": {},
   "outputs": [],
   "source": [
    "df = pd.read_csv('summer.csv')        #Here in the variable \"df\" we have read the Summer.csv file with the help of Pandas"
   ]
  },
  {
   "cell_type": "markdown",
   "id": "c0bf6f62",
   "metadata": {},
   "source": [
    "1. In how many countries Summer Olympics is held so far?"
   ]
  },
  {
   "cell_type": "code",
   "execution_count": 3,
   "id": "1915dbad",
   "metadata": {
    "scrolled": false
   },
   "outputs": [
    {
     "name": "stdout",
     "output_type": "stream",
     "text": [
      "In a total of 148 countries Summer Olympics have held so far according to the data\n",
      "+-----+-------------+\n",
      "|     | Countries   |\n",
      "|-----+-------------|\n",
      "|   0 | HUN         |\n",
      "|   1 | AUT         |\n",
      "|   2 | GRE         |\n",
      "|   3 | USA         |\n",
      "|   4 | GER         |\n",
      "|   5 | GBR         |\n",
      "|   6 | FRA         |\n",
      "|   7 | AUS         |\n",
      "|   8 | DEN         |\n",
      "|   9 | SUI         |\n",
      "|  10 | ZZX         |\n",
      "|  11 | NED         |\n",
      "|  12 | BEL         |\n",
      "|  13 | IND         |\n",
      "|  14 | CAN         |\n",
      "|  15 | BOH         |\n",
      "|  16 | SWE         |\n",
      "|  17 | NOR         |\n",
      "|  18 | ESP         |\n",
      "|  19 | ITA         |\n",
      "|  20 | CUB         |\n",
      "|  21 | ANZ         |\n",
      "|  22 | RSA         |\n",
      "|  23 | FIN         |\n",
      "|  24 | RU1         |\n",
      "|  25 | EST         |\n",
      "|  26 | TCH         |\n",
      "|  27 | NZL         |\n",
      "|  28 | BRA         |\n",
      "|  29 | JPN         |\n",
      "|  30 | LUX         |\n",
      "|  31 | ARG         |\n",
      "|  32 | POL         |\n",
      "|  33 | POR         |\n",
      "|  34 | URU         |\n",
      "|  35 | YUG         |\n",
      "|  36 | ROU         |\n",
      "|  37 | HAI         |\n",
      "|  38 | EGY         |\n",
      "|  39 | PHI         |\n",
      "|  40 | IRL         |\n",
      "|  41 | CHI         |\n",
      "|  42 | LAT         |\n",
      "|  43 | MEX         |\n",
      "|  44 | TUR         |\n",
      "|  45 | PAN         |\n",
      "|  46 | JAM         |\n",
      "|  47 | SRI         |\n",
      "|  48 | KOR         |\n",
      "|  49 | PUR         |\n",
      "|  50 | PER         |\n",
      "|  51 | IRI         |\n",
      "|  52 | TRI         |\n",
      "|  53 | URS         |\n",
      "|  54 | VEN         |\n",
      "|  55 | BUL         |\n",
      "|  56 | LIB         |\n",
      "|  57 | EUA         |\n",
      "|  58 | ISL         |\n",
      "|  59 | PAK         |\n",
      "|  60 | BAH         |\n",
      "|  61 | BWI         |\n",
      "|  62 | TPE         |\n",
      "|  63 | ETH         |\n",
      "|  64 | MAR         |\n",
      "|  65 | GHA         |\n",
      "|  66 | IRQ         |\n",
      "|  67 | SIN         |\n",
      "|  68 | TUN         |\n",
      "|  69 | KEN         |\n",
      "|  70 | NGR         |\n",
      "|  71 | GDR         |\n",
      "|  72 | FRG         |\n",
      "|  73 | UGA         |\n",
      "|  74 | CMR         |\n",
      "|  75 | MGL         |\n",
      "|  76 | PRK         |\n",
      "|  77 | COL         |\n",
      "|  78 | NIG         |\n",
      "|  79 | THA         |\n",
      "|  80 | BER         |\n",
      "|  81 | TAN         |\n",
      "|  82 | GUY         |\n",
      "|  83 | ZIM         |\n",
      "|  84 | CHN         |\n",
      "|  85 | CIV         |\n",
      "|  86 | ZAM         |\n",
      "|  87 | DOM         |\n",
      "|  88 | ALG         |\n",
      "|  89 | SYR         |\n",
      "|  90 | SUR         |\n",
      "|  91 | CRC         |\n",
      "|  92 | INA         |\n",
      "|  93 | SEN         |\n",
      "|  94 | DJI         |\n",
      "|  95 | AHO         |\n",
      "|  96 | ISV         |\n",
      "|  97 | EUN         |\n",
      "|  98 | NAM         |\n",
      "|  99 | QAT         |\n",
      "| 100 | LTU         |\n",
      "| 101 | MAS         |\n",
      "| 102 | CRO         |\n",
      "| 103 | ISR         |\n",
      "| 104 | SLO         |\n",
      "| 105 | IOP         |\n",
      "| 106 | RUS         |\n",
      "| 107 | UKR         |\n",
      "| 108 | ECU         |\n",
      "| 109 | BDI         |\n",
      "| 110 | MOZ         |\n",
      "| 111 | CZE         |\n",
      "| 112 | BLR         |\n",
      "| 113 | TGA         |\n",
      "| 114 | KAZ         |\n",
      "| 115 | UZB         |\n",
      "| 116 | SVK         |\n",
      "| 117 | MDA         |\n",
      "| 118 | GEO         |\n",
      "| 119 | HKG         |\n",
      "| 120 | ARM         |\n",
      "| 121 | AZE         |\n",
      "| 122 | BAR         |\n",
      "| 123 | KSA         |\n",
      "| 124 | KGZ         |\n",
      "| 125 | KUW         |\n",
      "| 126 | VIE         |\n",
      "| 127 | MKD         |\n",
      "| 128 | SCG         |\n",
      "| 129 | ERI         |\n",
      "| 130 | PAR         |\n",
      "| 131 | UAE         |\n",
      "| 132 | SRB         |\n",
      "| 133 | SUD         |\n",
      "| 134 | MRI         |\n",
      "| 135 | TOG         |\n",
      "| 136 | TJK         |\n",
      "| 137 | AFG         |\n",
      "| 138 | nan         |\n",
      "| 139 | BRN         |\n",
      "| 140 | GUA         |\n",
      "| 141 | GRN         |\n",
      "| 142 | TTO         |\n",
      "| 143 | BOT         |\n",
      "| 144 | MNE         |\n",
      "| 145 | CYP         |\n",
      "| 146 | SGP         |\n",
      "| 147 | GAB         |\n",
      "+-----+-------------+\n"
     ]
    }
   ],
   "source": [
    "count = 0                               #here I've initialised a variable count to 0\n",
    "for country in df[\"Country\"].unique():        #using the for loop to loop through the dataframe and to count every country once\n",
    "    count = count+1                           #for every new country found, count adds one to itself and stores it.\n",
    "first = pd.DataFrame(df[\"Country\"].unique(), columns = ['Countries'])\n",
    "print(\"In a total of {} countries Summer Olympics have held so far according to the data\".format(count))\n",
    "print(tabulate(first, headers = [\"Countries\"], tablefmt = \"psql\"))   #here I've tabulated the countries under the \"Countries\"\n",
    "                                                                     #header for the countires to be displayes in a tabulated\n",
    "                                                                     #format"
   ]
  },
  {
   "cell_type": "markdown",
   "id": "d23b2799",
   "metadata": {},
   "source": [
    "2. Which sport is having most number of Gold Medals so far?(TOP 5)"
   ]
  },
  {
   "cell_type": "code",
   "execution_count": 4,
   "id": "30e6cb21",
   "metadata": {},
   "outputs": [
    {
     "data": {
      "image/png": "[encoded data removed]",
      "text/plain": [
       "<Figure size 432x360 with 1 Axes>"
      ]
     },
     "metadata": {
      "needs_background": "light"
     },
     "output_type": "display_data"
    }
   ],
   "source": [
    "data = df[df['Medal'] == 'Gold'].groupby(['Sport']).count()    #in the variable \"data\" the DataFrame has been groupedby two columns\n",
    "                                                        #medals as well as sport\n",
    "first = data.Medal.sort_values(ascending = False).head().plot(x = 'Sport', y = 'Gold Medal', kind = 'bar', figsize=(6,5), title = 'Top 5 Sports with most number of GOLD Medals')\n",
    "#here in the variable first value_counts has been used to count the number of gold medals won by individuL SPORTS and \n",
    "#with help of plot, a bar-graph has been defined to give the reader a better viewpoint."
   ]
  },
  {
   "cell_type": "markdown",
   "id": "da1ad5ae",
   "metadata": {},
   "source": [
    "3. Which sport is having most number of Medals so far?(TOP 5)"
   ]
  },
  {
   "cell_type": "code",
   "execution_count": 5,
   "id": "dd52ca8e",
   "metadata": {},
   "outputs": [
    {
     "data": {
      "image/png": "[encoded data removed]",
      "text/plain": [
       "<Figure size 432x432 with 1 Axes>"
      ]
     },
     "metadata": {
      "needs_background": "light"
     },
     "output_type": "display_data"
    }
   ],
   "source": [
    "data = df.groupby(['Sport'])['Medal'].count()         #using groupby function to group medals and sports columns\n",
    "                                                      #and count the number of medals won by each sport.\n",
    "first = data.sort_values(ascending = False).head().plot.bar(x = 'Sport', y = 'Medals', figsize=(6,6), title = 'Top 5 Sports with most number of Medals')\n",
    "#now in the variable first we have sorted the values of medals in descending order and plotted a bar graph for the same."
   ]
  },
  {
   "cell_type": "markdown",
   "id": "9e407d9c",
   "metadata": {},
   "source": [
    "4. Which Player has won most number of medals?(TOP 5)"
   ]
  },
  {
   "cell_type": "code",
   "execution_count": 6,
   "id": "dbed56fb",
   "metadata": {},
   "outputs": [
    {
     "data": {
      "image/png": "[encoded data removed]",
      "text/plain": [
       "<Figure size 396x410.4 with 1 Axes>"
      ]
     },
     "metadata": {
      "needs_background": "light"
     },
     "output_type": "display_data"
    }
   ],
   "source": [
    "data = pd.DataFrame(df.groupby(['Athlete'])['Medal'].count())         #using groupby function to group medals and athlete columns\n",
    "player = data.Medal.sort_values(ascending = False).head().plot.bar(x= 'Athlete', y = 'Medal', figsize= (5.5 ,5.7), title= 'Player who has won most number of Medals')\n",
    "#now in the variable player we have sorted the values of medals in descending order and plotted a bar graph for the same."
   ]
  },
  {
   "cell_type": "markdown",
   "id": "872edc03",
   "metadata": {},
   "source": [
    "5. Which Player has won most number of Gold Medals?(TOP 5)"
   ]
  },
  {
   "cell_type": "code",
   "execution_count": 7,
   "id": "e9ff3780",
   "metadata": {},
   "outputs": [
    {
     "data": {
      "image/png": "[encoded data removed]",
      "text/plain": [
       "<Figure size 410.4x403.2 with 1 Axes>"
      ]
     },
     "metadata": {
      "needs_background": "light"
     },
     "output_type": "display_data"
    }
   ],
   "source": [
    "data = df[df['Medal'] == 'Gold'].groupby(['Athlete']).count()\n",
    "player = data.Medal.sort_values(ascending = False).head().plot.bar(x = 'Athlete', y = 'Gold Medals', figsize = (5.7,5.6), title = 'Player with most number of GOLD Medals')"
   ]
  },
  {
   "cell_type": "markdown",
   "id": "94f30c5d",
   "metadata": {},
   "source": [
    "6. In which year INDIA won its First Gold Medal in Summer Olympics?"
   ]
  },
  {
   "cell_type": "code",
   "execution_count": 8,
   "id": "d28982db",
   "metadata": {},
   "outputs": [
    {
     "name": "stdout",
     "output_type": "stream",
     "text": [
      "1928 was the year INDIA won it's first gold medal\n"
     ]
    }
   ],
   "source": [
    "medal_gold = df[df['Medal'] == \"Gold\"]       #Here I've looked for Gold Medal in the DataFrame and stored it in the variable medal_gold\n",
    "\n",
    "df2 = medal_gold[medal_gold['Country'] == \"IND\"]     #then I've searched for the country INDIA within the gold medal index \n",
    "\n",
    "srt_value = df2['Year'].sort_values().head(1).iloc[0]     #Here the values I got in the variable df, I sorted it in ascending order\n",
    "                                                         #and using iloc(0) tried locating the value of first row.\n",
    "print(\"{} was the year INDIA won it's first gold medal\".format(srt_value))"
   ]
  },
  {
   "cell_type": "markdown",
   "id": "14140fe1",
   "metadata": {},
   "source": [
    "7. Which event is popular in terms on number of Players?(TOP 5)"
   ]
  },
  {
   "cell_type": "code",
   "execution_count": 9,
   "id": "5614b64a",
   "metadata": {},
   "outputs": [
    {
     "name": "stdout",
     "output_type": "stream",
     "text": [
      "Event\n",
      "Football            1497\n",
      "Hockey              1422\n",
      "Team Competition    1147\n",
      "Basketball          1012\n",
      "Handball             973\n",
      "Name: Athlete, dtype: int64\n"
     ]
    },
    {
     "data": {
      "text/plain": [
       "<AxesSubplot:title={'center':'Most popular Event in terms of players'}, xlabel='Event'>"
      ]
     },
     "execution_count": 9,
     "metadata": {},
     "output_type": "execute_result"
    },
    {
     "data": {
      "image/png": "[encoded data removed]",
      "text/plain": [
       "<Figure size 504x504 with 1 Axes>"
      ]
     },
     "metadata": {
      "needs_background": "light"
     },
     "output_type": "display_data"
    }
   ],
   "source": [
    "event = df.groupby('Event').count()['Athlete'].sort_values(ascending = False).head()\n",
    "print(event)\n",
    "event.plot.bar(figsize=(7,7), title = \"Most popular Event in terms of players\")\n",
    "#here I've defined a variable \"event\" and calculated the top events in terms of numbers and taken the top 5 events\n",
    "#and ploted a bar graph with some defined parameters."
   ]
  },
  {
   "cell_type": "markdown",
   "id": "2d2db6bd",
   "metadata": {},
   "source": [
    "8. Which Sport is having most female Gold Medalists?(TOP 5)"
   ]
  },
  {
   "cell_type": "code",
   "execution_count": 10,
   "id": "9f7ad1b1",
   "metadata": {},
   "outputs": [
    {
     "data": {
      "text/plain": [
       "<AxesSubplot:title={'center':'Sports with most Female Gold Medalists'}>"
      ]
     },
     "execution_count": 10,
     "metadata": {},
     "output_type": "execute_result"
    },
    {
     "data": {
      "image/png": "[encoded data removed]",
      "text/plain": [
       "<Figure size 432x432 with 1 Axes>"
      ]
     },
     "metadata": {
      "needs_background": "light"
     },
     "output_type": "display_data"
    }
   ],
   "source": [
    "df2 = df[df['Medal'] == 'Gold']\n",
    "women_gold = medal_gold[medal_gold['Gender'] == 'Women']\n",
    "women_gold['Sport'].value_counts().head().plot(kind = 'bar', figsize = (6,6), title = \"Sports with most Female Gold Medalists\")"
   ]
  },
  {
   "cell_type": "code",
   "execution_count": null,
   "id": "710f841f",
   "metadata": {},
   "outputs": [],
   "source": []
  }
 ],
 "metadata": {
  "celltoolbar": "Raw Cell Format",
  "kernelspec": {
   "display_name": "Python 3",
   "language": "python",
   "name": "python3"
  },
  "language_info": {
   "codemirror_mode": {
    "name": "ipython",
    "version": 3
   },
   "file_extension": ".py",
   "mimetype": "text/x-python",
   "name": "python",
   "nbconvert_exporter": "python",
   "pygments_lexer": "ipython3",
   "version": "3.8.8"
  }
 },
 "nbformat": 4,
 "nbformat_minor": 5
}
